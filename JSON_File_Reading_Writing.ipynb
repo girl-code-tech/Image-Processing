{
 "cells": [
  {
   "cell_type": "code",
   "execution_count": null,
   "metadata": {},
   "outputs": [],
   "source": [
    "# This example shows how to use Python with JSON\n",
    "\n",
    "import json"
   ]
  },
  {
   "cell_type": "code",
   "execution_count": null,
   "metadata": {},
   "outputs": [],
   "source": [
    "# For storing on json format\n",
    "def storeJSON(fileName, data = {}):\n",
    "    with open(fileName, 'w')  as fd:\n",
    "        json.dump(data, fd, indent = 4, separators = (',', ': '))"
   ]
  },
  {
   "cell_type": "code",
   "execution_count": null,
   "metadata": {},
   "outputs": [],
   "source": [
    "\n",
    "# For loading data from a JSON file\n",
    "def loadJSON(fileName):\n",
    "    with open(fileName) as fd:\n",
    "        data = json.load(fd)\n",
    "        print(data)\n",
    "    return data"
   ]
  },
  {
   "cell_type": "code",
   "execution_count": null,
   "metadata": {},
   "outputs": [],
   "source": [
    "\n",
    "if __name__ == '__main__':\n",
    "    data = loadJSON('example.json')\n",
    "    print(data['menu']['value'])        # File\n",
    "    data['menu']['value'] = 'movie'\n",
    "    storeJSON('example.json', data)\n",
    "    print()\n",
    "    loadJSON('example.json')\n",
    "    print(data['menu']['value'])        # movie"
   ]
  }
 ],
 "metadata": {
  "kernelspec": {
   "display_name": "Python 3",
   "language": "python",
   "name": "python3"
  },
  "language_info": {
   "codemirror_mode": {
    "name": "ipython",
    "version": 3
   },
   "file_extension": ".py",
   "mimetype": "text/x-python",
   "name": "python",
   "nbconvert_exporter": "python",
   "pygments_lexer": "ipython3",
   "version": "3.6.5"
  }
 },
 "nbformat": 4,
 "nbformat_minor": 2
}
