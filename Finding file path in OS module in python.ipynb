{
 "cells": [
  {
   "cell_type": "markdown",
   "metadata": {},
   "source": [
    "# Finding file path in OS module with python"
   ]
  },
  {
   "cell_type": "code",
   "execution_count": 5,
   "metadata": {},
   "outputs": [
    {
     "name": "stdout",
     "output_type": "stream",
     "text": [
      "['D:stats and prob\\\\final.txt']\n"
     ]
    }
   ],
   "source": [
    "import os\n",
    "\n",
    "def find_files(filename, search_path):\n",
    "   result = []\n",
    "\n",
    "# Wlaking top-down from the root\n",
    "   for root, dir, files in os.walk(search_path):\n",
    "      if filename in files:\n",
    "         result.append(os.path.join(root,filename))\n",
    "   return result\n",
    "\n",
    "print(find_files(\"final.txt\",\"D:\"))"
   ]
  },
  {
   "cell_type": "code",
   "execution_count": null,
   "metadata": {},
   "outputs": [],
   "source": []
  }
 ],
 "metadata": {
  "kernelspec": {
   "display_name": "Python 3",
   "language": "python",
   "name": "python3"
  },
  "language_info": {
   "codemirror_mode": {
    "name": "ipython",
    "version": 3
   },
   "file_extension": ".py",
   "mimetype": "text/x-python",
   "name": "python",
   "nbconvert_exporter": "python",
   "pygments_lexer": "ipython3",
   "version": "3.8.5"
  }
 },
 "nbformat": 4,
 "nbformat_minor": 4
}
