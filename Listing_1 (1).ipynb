{
 "cells": [
  {
   "cell_type": "code",
   "execution_count": 1,
   "metadata": {},
   "outputs": [],
   "source": [
    "#This program gives examples about various list operations\n",
    "\n",
    "#Syntax: list[start: end: step]\n",
    "\n",
    "myList = [1, 2, 3, 4, 5, 6, 7, 8, 9]\n",
    "#index    0  1  2  3  4  5  6  7  8\n",
    "#        -9 -8 -7 -6 -5 -4 -3 -2 -1"
   ]
  },
  {
   "cell_type": "code",
   "execution_count": 2,
   "metadata": {},
   "outputs": [
    {
     "name": "stdout",
     "output_type": "stream",
     "text": [
      "Original List: [1, 2, 3, 4, 5, 6, 7, 8, 9]\n",
      "First Element: 1\n",
      "Element at 2nd Index position: 3\n",
      "Elements from 0th Index to 4th Index: [1, 2, 3, 4, 5]\n",
      "Element at -7th Index: 3\n"
     ]
    }
   ],
   "source": [
    "#List Slicing\n",
    "print('Original List:',myList)\n",
    "print('First Element:',myList[0]) #Prints the first element of the list or 0th element of the list\n",
    "print('Element at 2nd Index position:',myList[2]) #Prints the 2nd element of the list\n",
    "print('Elements from 0th Index to 4th Index:',myList[0: 5]) #Prints elements of the list from 0th index to 4th index. IT DOESN'T INCLUDE THE LAST INDEX\n",
    "print('Element at -7th Index:',myList[-7]) #Prints the -7th or 3rd element of the list\n"
   ]
  },
  {
   "cell_type": "code",
   "execution_count": 12,
   "metadata": {},
   "outputs": [
    {
     "name": "stdout",
     "output_type": "stream",
     "text": [
      "Append: [0, 11, 9, 8, 7, 6, 5, 4, 3, 2, 1, 10]\n"
     ]
    }
   ],
   "source": [
    "#To append an element to a list\n",
    "myList.append(10)\n",
    "print('Append:',myList)"
   ]
  },
  {
   "cell_type": "code",
   "execution_count": 4,
   "metadata": {},
   "outputs": [
    {
     "name": "stdout",
     "output_type": "stream",
     "text": [
      "Index of element '6': 5\n"
     ]
    }
   ],
   "source": [
    "#To find the index of a particular element\n",
    "print('Index of element \\'6\\':',myList.index(6)) #returns index of element '6'\n"
   ]
  },
  {
   "cell_type": "code",
   "execution_count": 5,
   "metadata": {},
   "outputs": [],
   "source": [
    "#To sort the list\n",
    "myList.sort()\n"
   ]
  },
  {
   "cell_type": "code",
   "execution_count": 6,
   "metadata": {},
   "outputs": [
    {
     "name": "stdout",
     "output_type": "stream",
     "text": [
      "Poped Element: 10\n"
     ]
    }
   ],
   "source": [
    "#To pop last element\n",
    "print('Poped Element:',myList.pop())"
   ]
  },
  {
   "cell_type": "code",
   "execution_count": 7,
   "metadata": {},
   "outputs": [
    {
     "name": "stdout",
     "output_type": "stream",
     "text": [
      "After removing '6': [1, 2, 3, 4, 5, 7, 8, 9]\n"
     ]
    }
   ],
   "source": [
    "#To remove a particular element from the lsit BY NAME\n",
    "myList.remove(6)\n",
    "print('After removing \\'6\\':',myList)"
   ]
  },
  {
   "cell_type": "code",
   "execution_count": 8,
   "metadata": {},
   "outputs": [
    {
     "name": "stdout",
     "output_type": "stream",
     "text": [
      "Inserting '6' at 5th index: [1, 2, 3, 4, 5, 6, 7, 8, 9]\n"
     ]
    }
   ],
   "source": [
    "#To insert an element at a specified Index\n",
    "myList.insert(5, 6)\n",
    "print('Inserting \\'6\\' at 5th index:',myList)"
   ]
  },
  {
   "cell_type": "code",
   "execution_count": 9,
   "metadata": {},
   "outputs": [
    {
     "name": "stdout",
     "output_type": "stream",
     "text": [
      "No of Occurences of '1': 1\n"
     ]
    }
   ],
   "source": [
    "\n",
    "#To count number of occurences of a element in the list\n",
    "print('No of Occurences of \\'1\\':',myList.count(1))"
   ]
  },
  {
   "cell_type": "code",
   "execution_count": 10,
   "metadata": {},
   "outputs": [
    {
     "name": "stdout",
     "output_type": "stream",
     "text": [
      "Extending list: [1, 2, 3, 4, 5, 6, 7, 8, 9, 11, 0]\n"
     ]
    }
   ],
   "source": [
    "#To extend a list that is insert multiple elemets at once at the end of the list\n",
    "myList.extend([11,0])\n",
    "print('Extending list:',myList)"
   ]
  },
  {
   "cell_type": "code",
   "execution_count": 11,
   "metadata": {},
   "outputs": [
    {
     "name": "stdout",
     "output_type": "stream",
     "text": [
      "Reversed list: [0, 11, 9, 8, 7, 6, 5, 4, 3, 2, 1]\n"
     ]
    }
   ],
   "source": [
    "#To reverse a list\n",
    "myList.reverse()\n",
    "print('Reversed list:',myList)"
   ]
  },
  {
   "cell_type": "code",
   "execution_count": null,
   "metadata": {},
   "outputs": [],
   "source": []
  }
 ],
 "metadata": {
  "kernelspec": {
   "display_name": "Python 3",
   "language": "python",
   "name": "python3"
  },
  "language_info": {
   "codemirror_mode": {
    "name": "ipython",
    "version": 3
   },
   "file_extension": ".py",
   "mimetype": "text/x-python",
   "name": "python",
   "nbconvert_exporter": "python",
   "pygments_lexer": "ipython3",
   "version": "3.8.5"
  }
 },
 "nbformat": 4,
 "nbformat_minor": 2
}
