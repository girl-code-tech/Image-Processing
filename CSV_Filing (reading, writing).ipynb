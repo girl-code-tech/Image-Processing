{
 "cells": [
  {
   "cell_type": "code",
   "execution_count": null,
   "metadata": {},
   "outputs": [],
   "source": [
    "# In this example we will see how to use CSV files with Python\n",
    "\n",
    "# csv.QUOTE_ALL = Instructs writer objects to quote all fields.\n",
    "# csv.QUOTE_MINIMAL = Instructs writer objects to only quote those fields which contain special characters such\n",
    "#                     as delimiter, quotechar or any of the characters in lineterminator.\n",
    "# csv.QUOTE_NONNUMERIC = Instructs writer objects to quote all non-numeric fields.\n",
    "#                        Instructs the reader to convert all non-quoted fields to type float.\n",
    "# csv.QUOTE_NONE = Instructs writer objects to never quote fields."
   ]
  },
  {
   "cell_type": "code",
   "execution_count": 1,
   "metadata": {},
   "outputs": [],
   "source": [
    "import csv"
   ]
  },
  {
   "cell_type": "code",
   "execution_count": 2,
   "metadata": {},
   "outputs": [],
   "source": [
    "\n",
    "def csvRead(filePath):\n",
    "    with open(filePath) as fd:\n",
    "        reader = csv.reader(fd, delimiter = ',')\n",
    "        for row in reader:\n",
    "            print(row[0] + ' ' + row[1])"
   ]
  },
  {
   "cell_type": "code",
   "execution_count": 3,
   "metadata": {},
   "outputs": [],
   "source": [
    "def csvWrite(filePath, data):\n",
    "    with open(filePath, 'a') as fd:\n",
    "        writer = csv.writer(fd, delimiter=',', quoting=csv.QUOTE_NONNUMERIC)\n",
    "        writer.writerow(data)"
   ]
  },
  {
   "cell_type": "code",
   "execution_count": null,
   "metadata": {},
   "outputs": [],
   "source": [
    "\n",
    "if __name__ == '__main__':\n",
    "    # data = ['Firstname', 'Lastname']\n",
    "    # csvWrite('example.csv', data)\n",
    "    userInput = input('What is your Fullname? ')\n",
    "    userInput = userInput.split(' ')\n",
    "    csvWrite('example.csv', userInput)\n",
    "    csvRead('example.csv')"
   ]
  },
  {
   "cell_type": "code",
   "execution_count": null,
   "metadata": {},
   "outputs": [],
   "source": []
  }
 ],
 "metadata": {
  "kernelspec": {
   "display_name": "Python 3",
   "language": "python",
   "name": "python3"
  },
  "language_info": {
   "codemirror_mode": {
    "name": "ipython",
    "version": 3
   },
   "file_extension": ".py",
   "mimetype": "text/x-python",
   "name": "python",
   "nbconvert_exporter": "python",
   "pygments_lexer": "ipython3",
   "version": "3.8.5"
  }
 },
 "nbformat": 4,
 "nbformat_minor": 2
}
