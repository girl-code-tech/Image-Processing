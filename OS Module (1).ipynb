{
 "cells": [
  {
   "cell_type": "markdown",
   "metadata": {},
   "source": [
    "# Python’s os module \n",
    "provides a function that gets a list of files or folders in a directory. The ., which is passed as an argument to os.listdir(), signifies the current folder"
   ]
  },
  {
   "cell_type": "code",
   "execution_count": 26,
   "metadata": {},
   "outputs": [
    {
     "name": "stdout",
     "output_type": "stream",
     "text": [
      "['packages', 'wdexpress_full.exe']\n"
     ]
    }
   ],
   "source": [
    "import os\n",
    "arr=os.listdir('E:\\Visual Studio')\n",
    "print(arr)"
   ]
  },
  {
   "cell_type": "code",
   "execution_count": 27,
   "metadata": {},
   "outputs": [
    {
     "name": "stdout",
     "output_type": "stream",
     "text": [
      "Listing_1.ipynb\n",
      "Numpy_1.ipynb\n",
      "Numpy_Manipulation_1.ipynb\n",
      "OS Module.ipynb\n"
     ]
    }
   ],
   "source": [
    "files=[f for f in os.listdir('.') if os.path.isfile(f)]\n",
    "for f in files:\n",
    "    print(f)"
   ]
  },
  {
   "cell_type": "markdown",
   "metadata": {},
   "source": [
    "To list files at a specific path, we can simply give the path as a string to the function.\n",
    "This path will have to be relative to where your Python file is placed or, if you’re not working with files, the path will be relative to where your Python Shell has been launched:"
   ]
  },
  {
   "cell_type": "code",
   "execution_count": 28,
   "metadata": {},
   "outputs": [
    {
     "data": {
      "text/plain": [
       "['packages', 'wdexpress_full.exe']"
      ]
     },
     "execution_count": 28,
     "metadata": {},
     "output_type": "execute_result"
    }
   ],
   "source": [
    "os.listdir('E:\\Visual Studio')"
   ]
  },
  {
   "cell_type": "code",
   "execution_count": 29,
   "metadata": {},
   "outputs": [
    {
     "name": "stdout",
     "output_type": "stream",
     "text": [
      "C:\\Users\\Students\\Pictures\\python\n"
     ]
    }
   ],
   "source": [
    "#This program illustrates the example for os module in short\n",
    "import time\n",
    "\n",
    "\n",
    "print(os.getcwd()) #Prints the current working directory"
   ]
  },
  {
   "cell_type": "code",
   "execution_count": 37,
   "metadata": {
    "scrolled": true
   },
   "outputs": [
    {
     "name": "stdout",
     "output_type": "stream",
     "text": [
      "<module 'ntpath' from 'C:\\\\Users\\\\Students\\\\anaconda3\\\\lib\\\\ntpath.py'>\n"
     ]
    }
   ],
   "source": [
    "print(os.path)\n",
    "os.mkdir('DIP')"
   ]
  },
  {
   "cell_type": "markdown",
   "metadata": {},
   "source": [
    "# The name of the operating system dependent module imported.\n",
    "The following names have currently been registered: 'posix', 'nt', 'java'."
   ]
  },
  {
   "cell_type": "code",
   "execution_count": 32,
   "metadata": {},
   "outputs": [
    {
     "name": "stdout",
     "output_type": "stream",
     "text": [
      "nt\n"
     ]
    }
   ],
   "source": [
    "print(os.name)"
   ]
  },
  {
   "cell_type": "markdown",
   "metadata": {},
   "source": [
    "# Return the filename corresponding to the controlling terminal of the process.\n",
    "\n",
    "Availability: Unix.\n",
    "print(os.ctermid)"
   ]
  },
  {
   "cell_type": "markdown",
   "metadata": {},
   "source": [
    "# A mapping object representing the string environment. \n",
    "For example, environ['HOME'] is the pathname of your home directory (on some platforms), and is equivalent to getenv(\"HOME\") in C."
   ]
  },
  {
   "cell_type": "code",
   "execution_count": 34,
   "metadata": {},
   "outputs": [
    {
     "name": "stdout",
     "output_type": "stream",
     "text": [
      "environ({'ALLUSERSPROFILE': 'C:\\\\ProgramData', 'APPDATA': 'C:\\\\Users\\\\Students\\\\AppData\\\\Roaming', 'COMMONPROGRAMFILES': 'C:\\\\Program Files\\\\Common Files', 'COMMONPROGRAMFILES(X86)': 'C:\\\\Program Files (x86)\\\\Common Files', 'COMMONPROGRAMW6432': 'C:\\\\Program Files\\\\Common Files', 'COMPUTERNAME': 'DESKTOP-PCURB4F', 'COMSPEC': 'C:\\\\WINDOWS\\\\system32\\\\cmd.exe', 'DRIVERDATA': 'C:\\\\Windows\\\\System32\\\\Drivers\\\\DriverData', 'HOMEDRIVE': 'C:', 'HOMEPATH': '\\\\Users\\\\Students', 'LOCALAPPDATA': 'C:\\\\Users\\\\Students\\\\AppData\\\\Local', 'LOGONSERVER': '\\\\\\\\DESKTOP-PCURB4F', 'NIEXTCCOMPILERSUPP': 'C:\\\\Program Files (x86)\\\\National Instruments\\\\Shared\\\\ExternalCompilerSupport\\\\C\\\\', 'NUMBER_OF_PROCESSORS': '12', 'ONEDRIVE': 'C:\\\\Users\\\\Students\\\\OneDrive', 'OS': 'Windows_NT', 'PATH': 'C:\\\\Users\\\\Students\\\\anaconda3;C:\\\\Users\\\\Students\\\\anaconda3\\\\Library\\\\mingw-w64\\\\bin;C:\\\\Users\\\\Students\\\\anaconda3\\\\Library\\\\usr\\\\bin;C:\\\\Users\\\\Students\\\\anaconda3\\\\Library\\\\bin;C:\\\\Users\\\\Students\\\\anaconda3\\\\Scripts;C:\\\\Program Files (x86)\\\\Common Files\\\\Oracle\\\\Java\\\\javapath;C:\\\\Program Files\\\\Common Files\\\\Oracle\\\\Java\\\\javapath;C:\\\\WINDOWS\\\\system32;C:\\\\WINDOWS;C:\\\\WINDOWS\\\\System32\\\\Wbem;C:\\\\WINDOWS\\\\System32\\\\WindowsPowerShell\\\\v1.0\\\\;C:\\\\WINDOWS\\\\System32\\\\OpenSSH\\\\;C:\\\\Program Files\\\\Microsoft SQL Server\\\\110\\\\Tools\\\\Binn\\\\;C:\\\\Program Files\\\\Microsoft\\\\Web Platform Installer\\\\;C:\\\\Program Files (x86)\\\\Microsoft ASP.NET\\\\ASP.NET Web Pages\\\\v1.0\\\\;C:\\\\Program Files (x86)\\\\Windows Kits\\\\8.0\\\\Windows Performance Toolkit\\\\;C:\\\\Users\\\\Students\\\\anaconda3;C:\\\\Users\\\\Students\\\\anaconda3\\\\Library\\\\mingw-w64\\\\bin;C:\\\\Users\\\\Students\\\\anaconda3\\\\Library\\\\usr\\\\bin;C:\\\\Users\\\\Students\\\\anaconda3\\\\Library\\\\bin;C:\\\\Users\\\\Students\\\\anaconda3\\\\Scripts;C:\\\\Users\\\\Students\\\\AppData\\\\Local\\\\Microsoft\\\\WindowsApps', 'PATHEXT': '.COM;.EXE;.BAT;.CMD;.VBS;.VBE;.JS;.JSE;.WSF;.WSH;.MSC', 'PROCESSOR_ARCHITECTURE': 'AMD64', 'PROCESSOR_IDENTIFIER': 'Intel64 Family 6 Model 158 Stepping 10, GenuineIntel', 'PROCESSOR_LEVEL': '6', 'PROCESSOR_REVISION': '9e0a', 'PROGRAMDATA': 'C:\\\\ProgramData', 'PROGRAMFILES': 'C:\\\\Program Files', 'PROGRAMFILES(X86)': 'C:\\\\Program Files (x86)', 'PROGRAMW6432': 'C:\\\\Program Files', 'PSMODULEPATH': 'C:\\\\Program Files\\\\WindowsPowerShell\\\\Modules;C:\\\\WINDOWS\\\\system32\\\\WindowsPowerShell\\\\v1.0\\\\Modules', 'PUBLIC': 'C:\\\\Users\\\\Public', 'SESSIONNAME': 'Console', 'SYSTEMDRIVE': 'C:', 'SYSTEMROOT': 'C:\\\\WINDOWS', 'TEMP': 'C:\\\\Users\\\\Students\\\\AppData\\\\Local\\\\Temp', 'TMP': 'C:\\\\Users\\\\Students\\\\AppData\\\\Local\\\\Temp', 'USERDOMAIN': 'DESKTOP-PCURB4F', 'USERDOMAIN_ROAMINGPROFILE': 'DESKTOP-PCURB4F', 'USERNAME': 'Students', 'USERPROFILE': 'C:\\\\Users\\\\Students', 'VS110COMNTOOLS': 'C:\\\\Program Files (x86)\\\\Microsoft Visual Studio 11.0\\\\Common7\\\\Tools\\\\', 'VS120COMNTOOLS': 'C:\\\\Program Files (x86)\\\\Microsoft Visual Studio 12.0\\\\Common7\\\\Tools\\\\', 'WINDIR': 'C:\\\\WINDOWS', 'CONDA_PREFIX': 'C:\\\\Users\\\\Students\\\\anaconda3', 'JPY_INTERRUPT_EVENT': '1892', 'IPY_INTERRUPT_EVENT': '1892', 'JPY_PARENT_PID': '3020', 'TERM': 'xterm-color', 'CLICOLOR': '1', 'PAGER': 'cat', 'GIT_PAGER': 'cat', 'MPLBACKEND': 'module://ipykernel.pylab.backend_inline'})\n"
     ]
    }
   ],
   "source": [
    "print(os.environ)"
   ]
  },
  {
   "cell_type": "code",
   "execution_count": null,
   "metadata": {},
   "outputs": [],
   "source": []
  }
 ],
 "metadata": {
  "kernelspec": {
   "display_name": "Python 3",
   "language": "python",
   "name": "python3"
  },
  "language_info": {
   "codemirror_mode": {
    "name": "ipython",
    "version": 3
   },
   "file_extension": ".py",
   "mimetype": "text/x-python",
   "name": "python",
   "nbconvert_exporter": "python",
   "pygments_lexer": "ipython3",
   "version": "3.8.5"
  }
 },
 "nbformat": 4,
 "nbformat_minor": 2
}
