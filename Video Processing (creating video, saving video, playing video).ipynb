{
 "cells": [
  {
   "cell_type": "code",
   "execution_count": 10,
   "metadata": {},
   "outputs": [],
   "source": [
    "import numpy as np\n",
    "import cv2 as cv"
   ]
  },
  {
   "cell_type": "markdown",
   "metadata": {},
   "source": [
    "# Capturing Video using OpenCV\n",
    "cap.read() returns a bool (True/False). If the frame is read correctly, it will be True. \n",
    "\n",
    "cap.isOpened(). If it is True, OK. Otherwise open it using cap.open()."
   ]
  },
  {
   "cell_type": "code",
   "execution_count": 11,
   "metadata": {},
   "outputs": [
    {
     "name": "stdout",
     "output_type": "stream",
     "text": [
      "1\n"
     ]
    }
   ],
   "source": [
    "print(1)\n",
    "cap=cv.VideoCapture(0)\n",
    "if not cap.isOpened():\n",
    "    print(\"Cannot open camera\")\n",
    "    exit()\n",
    "\n",
    "while(cap.isOpened()):\n",
    "    # Capture frame-by-frame\n",
    "    ret, frame=cap.read()\n",
    "    # if frame is read correctly ret is True\n",
    "    if not ret:\n",
    "        print(\"No Frame\")\n",
    "        break\n",
    "    \n",
    "     # Display the resulting frame\n",
    "    cv.imshow(\"Frame\", frame)\n",
    "\n",
    "    RGB = cv.cvtColor(frame, cv.COLOR_BGR2RGB)\n",
    "    cv.imshow(\"RGB Frame\", RGB)\n",
    "\n",
    "    redFrame=frame[:300,:,[1,1,0]]*200   \n",
    "    cv.imshow(\"RedFrame\", redFrame)\n",
    "\n",
    "    gray = cv.cvtColor(frame, cv.COLOR_BGR2GRAY)\n",
    "    cv.imshow('Gray Frame',gray)\n",
    "    \n",
    "    #makes window wait till the video is captured\n",
    "    key=cv.waitKey(1)\n",
    "    if key==ord(\"q\"):\n",
    "        break\n",
    "    \n",
    "\n",
    "# When everything done, release the capture        \n",
    "cap.release()\n",
    "cv.destroyAllWindows()\n",
    "\n",
    "\n",
    "\n",
    "  \n",
    "   "
   ]
  },
  {
   "cell_type": "code",
   "execution_count": null,
   "metadata": {},
   "outputs": [],
   "source": [
    "import numpy as np\n",
    "import cv2\n",
    "\n",
    "cap = cv2.VideoCapture(0)\n",
    "\n",
    "while(cap.isOpened()):\n",
    "    ret, frame = cap.read()\n",
    "    edge_det = cv2.Canny(frame,100,200)\n",
    "\n",
    "\n",
    "    \n",
    "    \n",
    "    gray = cv2.cvtColor(edge_det, cv2.COLOR_BGR2RGB)\n",
    "    cv2.imshow('frame',gray)\n",
    "    #0xFF means masking our keyboard takes unicode and some of the characters are remaining \n",
    "    #so it effectively masks the variable so it leaves only the value in the last 8 bits, and ignores all the rest of the bits.\n",
    "    if cv2.waitKey(1) & 0xFF == ord('q'):\n",
    "        break\n",
    "\n",
    "cap.release()\n",
    "cv2.destroyAllWindows()"
   ]
  },
  {
   "cell_type": "markdown",
   "metadata": {},
   "source": [
    "# Saving a Video\n",
    "FourCC is a 4-byte code used to specify the video codec. The list of available codes can be found in fourcc.org. FourCC is platform dependent. The following codecs work fine for me.\n",
    "\n",
    "In Fedora: DIVX, XVID, MJPG, X264, WMV1, WMV2. (XVID is more preferable. MJPG results in high size video. X264 gives very small size video)\n",
    "In Windows: DIVX (More to be tested and added)\n",
    "In OSX: MJPG (.mp4), DIVX (.avi), X264 (.mkv).\n",
    "FourCC code is passed as `cv.VideoWriter_fourcc('M','J','P','G')or cv.VideoWriter_fourcc(*'MJPG')` for MJPG."
   ]
  },
  {
   "cell_type": "code",
   "execution_count": 13,
   "metadata": {},
   "outputs": [
    {
     "name": "stdout",
     "output_type": "stream",
     "text": [
      "2\n",
      "1\n"
     ]
    }
   ],
   "source": [
    "import numpy as np\n",
    "import cv2 as cv\n",
    "from matplotlib import pyplot as plt\n",
    "cap= cv.VideoCapture(0)\n",
    "#cap= cv.VideoCapture(1)  cap= cv.VideoCapture(0)\n",
    "#1 is for external\n",
    "#0 is for internal\n",
    "\n",
    "fourcc=cv.VideoWriter_fourcc(*'XVID')\n",
    "out=cv.VideoWriter('output.avi', fourcc, 30.0, (640,480))\n",
    "print(2)\n",
    "while(cap.isOpened()):\n",
    "    ret,frame=cap.read()\n",
    "    \n",
    "    if ret==True:\n",
    "        frame=cv.flip(frame, 0)\n",
    "        frame[100:150,:,0]=100\n",
    "        \n",
    "        frame[300:350,:,0]=200\n",
    "        frame[:,200:400,1]=200\n",
    "        frame[400:500,:,2]=300\n",
    "        \n",
    "        \n",
    "        out.write(frame)\n",
    "        cv.imshow('Frame', frame)\n",
    "        if cv.waitKey(1)==ord('q'):\n",
    "            break\n",
    "            \n",
    "    else:\n",
    "        break\n",
    "            \n",
    "            \n",
    "cap.release()\n",
    "out.release()\n",
    "cv.destroyAllWindows()\n",
    "print(1)"
   ]
  },
  {
   "cell_type": "markdown",
   "metadata": {},
   "source": [
    "# Playing Video from file"
   ]
  },
  {
   "cell_type": "code",
   "execution_count": 14,
   "metadata": {},
   "outputs": [],
   "source": [
    "import numpy as np\n",
    "import cv2\n",
    "cap = cv2.VideoCapture('output.avi')\n",
    "\n",
    "while(cap.isOpened()):\n",
    "    ret, frame = cap.read()\n",
    "\n",
    "    \n",
    "    \n",
    "    #gray = cv2.cvtColor(frame, cv2.COLOR_BGR2GRAY)\n",
    "    cv2.imshow('frame',frame)\n",
    "    #0xFF means masking our keyboard takes unicode and some of the characters are remaining \n",
    "    #so it effectively masks the variable so it leaves only the value in the last 8 bits, and ignores all the rest of the bits.\n",
    "    if cv2.waitKey(1) & 0xFF== ord('q'):\n",
    "        break\n",
    "\n",
    "cap.release()\n",
    "cv2.destroyAllWindows()"
   ]
  },
  {
   "cell_type": "code",
   "execution_count": null,
   "metadata": {},
   "outputs": [],
   "source": []
  }
 ],
 "metadata": {
  "kernelspec": {
   "display_name": "Python 3",
   "language": "python",
   "name": "python3"
  },
  "language_info": {
   "codemirror_mode": {
    "name": "ipython",
    "version": 3
   },
   "file_extension": ".py",
   "mimetype": "text/x-python",
   "name": "python",
   "nbconvert_exporter": "python",
   "pygments_lexer": "ipython3",
   "version": "3.8.5"
  }
 },
 "nbformat": 4,
 "nbformat_minor": 4
}
